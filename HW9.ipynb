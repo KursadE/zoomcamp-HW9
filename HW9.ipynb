{
 "cells": [
  {
   "cell_type": "code",
   "execution_count": 1,
   "metadata": {},
   "outputs": [],
   "source": [
    "import numpy as np\n",
    "\n",
    "import tensorflow as tf\n",
    "from tensorflow import keras"
   ]
  },
  {
   "cell_type": "code",
   "execution_count": 2,
   "metadata": {},
   "outputs": [],
   "source": [
    "#!wget https://github.com/alexeygrigorev/large-datasets/releases/download/dogs-cats-model/dogs_cats_10_0.687.h5 -O dogs_cats_model.h5"
   ]
  },
  {
   "cell_type": "code",
   "execution_count": 3,
   "metadata": {},
   "outputs": [],
   "source": [
    "model = keras.models.load_model('dogs_cats_model.h5')"
   ]
  },
  {
   "cell_type": "code",
   "execution_count": 4,
   "metadata": {},
   "outputs": [],
   "source": [
    "from io import BytesIO\n",
    "from urllib import request\n",
    "\n",
    "from PIL import Image\n",
    "\n",
    "def download_image(url):\n",
    "    with request.urlopen(url) as resp:\n",
    "        buffer = resp.read()\n",
    "    stream = BytesIO(buffer)\n",
    "    img = Image.open(stream)\n",
    "    return img\n",
    "\n",
    "def prepare_image(img, target_size):\n",
    "    if img.mode != 'RGB':\n",
    "        img = img.convert('RGB')\n",
    "    img = img.resize(target_size, Image.NEAREST)\n",
    "    return img\n",
    "\n",
    "def preprocess_input(x):\n",
    "    x /= 127.5\n",
    "    x -= 1.\n",
    "    return x"
   ]
  },
  {
   "cell_type": "code",
   "execution_count": 5,
   "metadata": {},
   "outputs": [],
   "source": [
    "url = 'https://upload.wikimedia.org/wikipedia/commons/9/9a/Pug_600.jpg'\n",
    "image_size = (150, 150)\n",
    "\n",
    "img = download_image(url)\n",
    "img = prepare_image(img, target_size=image_size)"
   ]
  },
  {
   "cell_type": "code",
   "execution_count": 6,
   "metadata": {},
   "outputs": [
    {
     "data": {
      "text/plain": [
       "array([[[[ 0.41176474,  0.54509807,  0.49803925],\n",
       "         [ 0.38823533,  0.52156866,  0.45882356],\n",
       "         [ 0.26274514,  0.39607847,  0.33333337],\n",
       "         ...,\n",
       "         [ 0.5294118 ,  0.7019608 ,  0.6784314 ],\n",
       "         [ 0.36470592,  0.4901961 ,  0.4901961 ],\n",
       "         [ 0.34901965,  0.5372549 ,  0.5529412 ]],\n",
       "\n",
       "        [[ 0.05098045,  0.18431377,  0.13725495],\n",
       "         [ 0.47450984,  0.60784316,  0.56078434],\n",
       "         [ 0.21568632,  0.34901965,  0.28627455],\n",
       "         ...,\n",
       "         [ 0.58431375,  0.73333335,  0.7176471 ],\n",
       "         [ 0.26274514,  0.4039216 ,  0.27843142],\n",
       "         [ 0.5764706 ,  0.75686276,  0.70980394]],\n",
       "\n",
       "        [[ 0.37254906,  0.49803925,  0.47450984],\n",
       "         [ 0.23921573,  0.37254906,  0.32549024],\n",
       "         [ 0.2941177 ,  0.427451  ,  0.36470592],\n",
       "         ...,\n",
       "         [ 0.20000005,  0.3176471 ,  0.2941177 ],\n",
       "         [ 0.254902  ,  0.38823533,  0.30980396],\n",
       "         [ 0.41176474,  0.5921569 ,  0.54509807]],\n",
       "\n",
       "        ...,\n",
       "\n",
       "        [[ 0.16078436,  0.23921573,  0.1686275 ],\n",
       "         [-0.01960784,  0.05098045,  0.01176476],\n",
       "         [ 0.13725495,  0.20784318,  0.18431377],\n",
       "         ...,\n",
       "         [ 0.16078436,  0.18431377,  0.09803927],\n",
       "         [-0.05098039, -0.02745098, -0.11372548],\n",
       "         [-0.3960784 , -0.3333333 , -0.4352941 ]],\n",
       "\n",
       "        [[-0.05882353,  0.02745104, -0.08235294],\n",
       "         [-0.05882353,  0.0196079 , -0.05098039],\n",
       "         [ 0.19215691,  0.26274514,  0.22352946],\n",
       "         ...,\n",
       "         [ 0.49803925,  0.48235297,  0.36470592],\n",
       "         [-0.64705884, -0.6392157 , -0.7647059 ],\n",
       "         [-0.21568626, -0.16862744, -0.27843136]],\n",
       "\n",
       "        [[ 0.15294123,  0.15294123,  0.07450986],\n",
       "         [ 0.4901961 ,  0.4431373 ,  0.33333337],\n",
       "         [-0.00392157,  0.06666672,  0.05882359],\n",
       "         ...,\n",
       "         [ 0.14509809,  0.20000005,  0.13725495],\n",
       "         [-0.19999999, -0.1607843 , -0.21568626],\n",
       "         [-0.12941176, -0.09019607, -0.14509803]]]], dtype=float32)"
      ]
     },
     "execution_count": 6,
     "metadata": {},
     "output_type": "execute_result"
    }
   ],
   "source": [
    "x = np.array(img, dtype='float32')\n",
    "X = np.array([x])\n",
    "\n",
    "X = preprocess_input(X)\n",
    "X"
   ]
  },
  {
   "cell_type": "code",
   "execution_count": 7,
   "metadata": {},
   "outputs": [
    {
     "data": {
      "text/plain": [
       "(1, 150, 150, 3)"
      ]
     },
     "execution_count": 7,
     "metadata": {},
     "output_type": "execute_result"
    }
   ],
   "source": [
    "X.shape"
   ]
  },
  {
   "cell_type": "code",
   "execution_count": 8,
   "metadata": {},
   "outputs": [
    {
     "data": {
      "text/plain": [
       "0.41176474"
      ]
     },
     "execution_count": 8,
     "metadata": {},
     "output_type": "execute_result"
    }
   ],
   "source": [
    "X[0][0][0][0]"
   ]
  },
  {
   "cell_type": "code",
   "execution_count": 9,
   "metadata": {},
   "outputs": [],
   "source": [
    "pred = model.predict(X)"
   ]
  },
  {
   "cell_type": "code",
   "execution_count": 10,
   "metadata": {},
   "outputs": [
    {
     "data": {
      "text/plain": [
       "{'dogs': 0.9703119}"
      ]
     },
     "execution_count": 10,
     "metadata": {},
     "output_type": "execute_result"
    }
   ],
   "source": [
    "classes = [\n",
    "    'dogs',\n",
    "    'cats'\n",
    "]\n",
    "\n",
    "dict(zip(classes, pred[0]))"
   ]
  },
  {
   "cell_type": "code",
   "execution_count": 11,
   "metadata": {},
   "outputs": [],
   "source": [
    "## Convert Keras to TF-Lite"
   ]
  },
  {
   "cell_type": "code",
   "execution_count": 12,
   "metadata": {},
   "outputs": [
    {
     "name": "stdout",
     "output_type": "stream",
     "text": [
      "INFO:tensorflow:Assets written to: /var/folders/wk/yt_rdhdx7mqbrqjqngjkkqx00000gn/T/tmpwdhh98z9/assets\n"
     ]
    }
   ],
   "source": [
    "converter = tf.lite.TFLiteConverter.from_keras_model(model)\n",
    "\n",
    "tflite_model = converter.convert()\n",
    "\n",
    "with open('dogs_cats_model.tflite', 'wb') as f_out:\n",
    "    f_out.write(tflite_model)"
   ]
  },
  {
   "cell_type": "code",
   "execution_count": 13,
   "metadata": {},
   "outputs": [],
   "source": [
    "#!ls -lh"
   ]
  },
  {
   "cell_type": "code",
   "execution_count": 26,
   "metadata": {},
   "outputs": [
    {
     "name": "stdout",
     "output_type": "stream",
     "text": [
      "Looking in indexes: https://pypi.org/simple, https://google-coral.github.io/py-repo/\n",
      "\u001b[31mERROR: Could not find a version that satisfies the requirement tflite_runtime (from versions: none)\u001b[0m\n",
      "\u001b[31mERROR: No matching distribution found for tflite_runtime\u001b[0m\n"
     ]
    }
   ],
   "source": [
    "!pip install --extra-index-url https://google-coral.github.io/py-repo/ tflite_runtime"
   ]
  },
  {
   "cell_type": "code",
   "execution_count": 10,
   "metadata": {},
   "outputs": [
    {
     "name": "stdout",
     "output_type": "stream",
     "text": [
      "Processing ./tflite_runtime-2.5.0-cp38-cp38-macosx_10_13_x86_64.whl\r\n",
      "Requirement already satisfied: numpy>=1.12.1 in /Library/Frameworks/Python.framework/Versions/3.8/lib/python3.8/site-packages (from tflite-runtime==2.5.0) (1.19.5)\r\n",
      "tflite-runtime is already installed with the same version as the provided wheel. Use --force-reinstall to force an installation of the wheel.\r\n"
     ]
    }
   ],
   "source": [
    "!pip install tflite_runtime-2.5.0-cp38-cp38-macosx_10_13_x86_64.whl"
   ]
  },
  {
   "cell_type": "code",
   "execution_count": 12,
   "metadata": {},
   "outputs": [],
   "source": [
    "import tensorflow.lite as tflite\n",
    "#import tflite_runtime.interpreter as tflite"
   ]
  },
  {
   "cell_type": "code",
   "execution_count": null,
   "metadata": {},
   "outputs": [],
   "source": [
    "interpreter = tflite.Interpreter(model_path='dogs_cats_model.tflite')\n",
    "interpreter.allocate_tensors()\n",
    "\n",
    "input_index = interpreter.get_input_details()[0]['index']\n",
    "output_index = interpreter.get_output_details()[0]['index']"
   ]
  },
  {
   "cell_type": "code",
   "execution_count": null,
   "metadata": {},
   "outputs": [],
   "source": [
    "interpreter.set_tensor(input_index, X)\n",
    "interpreter.invoke()\n",
    "pred = interpreter.get_tensor(output_index)"
   ]
  },
  {
   "cell_type": "code",
   "execution_count": null,
   "metadata": {},
   "outputs": [],
   "source": [
    "classes = [\n",
    "    'dogs',\n",
    "    'cats'\n",
    "]\n",
    "\n",
    "dict(zip(classes, pred[0]))"
   ]
  },
  {
   "cell_type": "code",
   "execution_count": null,
   "metadata": {},
   "outputs": [],
   "source": []
  },
  {
   "cell_type": "code",
   "execution_count": null,
   "metadata": {},
   "outputs": [],
   "source": []
  }
 ],
 "metadata": {
  "kernelspec": {
   "display_name": "Python 3",
   "language": "python",
   "name": "python3"
  },
  "language_info": {
   "codemirror_mode": {
    "name": "ipython",
    "version": 3
   },
   "file_extension": ".py",
   "mimetype": "text/x-python",
   "name": "python",
   "nbconvert_exporter": "python",
   "pygments_lexer": "ipython3",
   "version": "3.8.2"
  }
 },
 "nbformat": 4,
 "nbformat_minor": 4
}
